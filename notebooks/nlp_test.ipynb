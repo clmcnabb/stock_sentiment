{
 "cells": [
  {
   "cell_type": "code",
   "execution_count": null,
   "id": "21bebc2d",
   "metadata": {},
   "outputs": [],
   "source": [
    "%load_ext autoreload\n",
    "%autoreload 2"
   ]
  },
  {
   "cell_type": "code",
   "execution_count": null,
   "id": "25a87af2",
   "metadata": {},
   "outputs": [],
   "source": [
    "from pathlib import Path\n",
    "import sys\n",
    "import spacy\n",
    "\n",
    "notebook_dir = Path().resolve()\n",
    "project_dir = notebook_dir.parent\n",
    "module_dir = project_dir / \"stock_sentiment\"\n",
    "\n",
    "if str(project_dir) not in sys.path:\n",
    "    sys.path.append(str(project_dir))\n",
    "\n",
    "from stock_sentiment.sentiment_analysis import StockSentimentAnalyzer  # noqa: E402"
   ]
  },
  {
   "cell_type": "code",
   "execution_count": null,
   "id": "656c7ef6",
   "metadata": {},
   "outputs": [],
   "source": [
    "MODEL = \"mrm8488/distilroberta-finetuned-financial-news-sentiment-analysis\"\n",
    "MAX_LENGTH = 512\n",
    "\n",
    "# Initialize NLP tools\n",
    "nlp = spacy.load(\"en_core_web_sm\")"
   ]
  },
  {
   "cell_type": "code",
   "execution_count": null,
   "id": "d7a07302-2053-4e75-ab47-90ea45f86a43",
   "metadata": {},
   "outputs": [],
   "source": [
    "analyzer = StockSentimentAnalyzer(MODEL, MAX_LENGTH, nlp)\n",
    "url = \"https://finance.yahoo.com/news/big-techs-next-milestone-4-185011643.html\"\n",
    "stock_symbol = \"NVDA\"\n",
    "sentiment_score = analyzer.analyze_stock_sentiment(url, stock_symbol)\n",
    "sentiment_score"
   ]
  }
 ],
 "metadata": {
  "kernelspec": {
   "display_name": "Python 3 (ipykernel)",
   "language": "python",
   "name": "python3"
  },
  "language_info": {
   "codemirror_mode": {
    "name": "ipython",
    "version": 3
   },
   "file_extension": ".py",
   "mimetype": "text/x-python",
   "name": "python",
   "nbconvert_exporter": "python",
   "pygments_lexer": "ipython3",
   "version": "3.10.11"
  }
 },
 "nbformat": 4,
 "nbformat_minor": 5
}
