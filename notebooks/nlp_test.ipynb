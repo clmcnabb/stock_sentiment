{
 "cells": [
  {
   "cell_type": "code",
   "execution_count": 70,
   "id": "bd8afb76-5953-4001-8da9-c4479fbd389b",
   "metadata": {
    "scrolled": true
   },
   "outputs": [],
   "source": [
    "import requests\n",
    "import numpy as np\n",
    "import spacy\n",
    "import yfinance as yf\n",
    "from textblob import TextBlob\n",
    "from bs4 import BeautifulSoup\n",
    "from transformers import pipeline\n",
    "# from sklearn.preprocessing import MinMaxScaler"
   ]
  },
  {
   "cell_type": "code",
   "execution_count": 2,
   "id": "d7a07302-2053-4e75-ab47-90ea45f86a43",
   "metadata": {},
   "outputs": [],
   "source": [
    "def fetch_text_from_url(url):\n",
    "    \"\"\"Fetch and return the text content from a given URL.\"\"\"\n",
    "    response = requests.get(url)\n",
    "    soup = BeautifulSoup(response.content, \"html.parser\")\n",
    "    text = soup.get_text()\n",
    "    return text\n",
    "\n",
    "\n",
    "def get_stock_name(symbol):\n",
    "    \"\"\"Retrieve the full name of a stock based on its symbol using Yahoo Finance.\"\"\"\n",
    "    stock = yf.Ticker(symbol)\n",
    "    return stock.info[\"longName\"]"
   ]
  },
  {
   "cell_type": "code",
   "execution_count": 107,
   "id": "bb0c4d38",
   "metadata": {},
   "outputs": [],
   "source": [
    "nlp = spacy.load(\"en_core_web_sm\")\n",
    "model = \"mrm8488/distilroberta-finetuned-financial-news-sentiment-analysis\"\n",
    "sentiment_pipe = pipeline(\"sentiment-analysis\", model=model)\n",
    "MAX_LENGTH = 512\n",
    "# tokenizer = AutoTokenizer.from_pretrained(model)"
   ]
  },
  {
   "cell_type": "code",
   "execution_count": 151,
   "id": "94976c9c-405d-43ec-ab0d-2ee41cd7cbe1",
   "metadata": {},
   "outputs": [
    {
     "name": "stdout",
     "output_type": "stream",
     "text": [
      "['nvidia corporation', 'nvidia', 'nvidia', 'nvidia', 'nvda']\n",
      "1.0\n",
      "Sentiment for NVDA: 1.00\n"
     ]
    }
   ],
   "source": [
    "def analyze_stock_sentiment(url, stock_symbol):\n",
    "    \"\"\"Extract sentiment about a given stock symbol from a given URL.\"\"\"\n",
    "    text = fetch_text_from_url(url)\n",
    "    stock_long_name = get_stock_name(stock_symbol)\n",
    "    # Removeing common suffixes/articles from the stock name\n",
    "    stock_long_name_truncated = stock_long_name.replace(\"The\", \"\").strip()\n",
    "    stock_long_name_truncated = stock_long_name_truncated.replace(\"Inc.\", \"\").strip()\n",
    "    stock_long_name_truncated = stock_long_name_truncated.replace(\n",
    "        \"Corporation\", \"\"\n",
    "    ).strip()\n",
    "    stock_short_name = stock_long_name_truncated.split(\" \")[0].split(\",\")[0]\n",
    "    stock_base_name = stock_short_name.split(\".\")[0]\n",
    "    entities = [\n",
    "        stock_long_name,\n",
    "        stock_long_name_truncated,\n",
    "        stock_short_name,\n",
    "        stock_base_name,\n",
    "        stock_symbol,\n",
    "    ]\n",
    "    entities = [entity.lower() for entity in entities]\n",
    "    print(entities)\n",
    "    text = text.lower()\n",
    "\n",
    "    doc = nlp(text)\n",
    "\n",
    "    text_snippets = [\n",
    "        sent.text\n",
    "        for sent in doc.sents\n",
    "        if any(entity in sent.text for entity in entities)\n",
    "    ]\n",
    "    # for sent in doc.sents:\n",
    "    #     snippet = sent.text[:MAX_LENGTH]\n",
    "    #     results = sentiment_pipe(snippet)\n",
    "    #     print(results)\n",
    "    pos_count = []\n",
    "    neg_count = []\n",
    "    neu_count = []\n",
    "    scores = []\n",
    "    sentiments = []\n",
    "    for snippet in text_snippets:\n",
    "        if len(snippet) > MAX_LENGTH:\n",
    "            snippet = snippet[:MAX_LENGTH]\n",
    "        results = sentiment_pipe(snippet)\n",
    "        # print(results)\n",
    "        sentiments.append(results[0][\"label\"])\n",
    "        if results[0][\"label\"] == \"positive\":\n",
    "            pos_count.append(len(snippet))\n",
    "            # print(f\"Positive snippet length: {len(snippet)}\")\n",
    "        elif results[0][\"label\"] == \"negative\":\n",
    "            neg_count.append(len(snippet))\n",
    "            # print(f\"Negative snippet length: {len(snippet)}\")\n",
    "        elif results[0][\"label\"] == \"neutral\":\n",
    "            neu_count.append(len(snippet))\n",
    "            # print(f\"Neutral snippet length: {len(snippet)}\")\n",
    "        scores.append(results[0][\"score\"])\n",
    "    # scores = np.array(scores)\n",
    "    # print(pos_count)\n",
    "    # print(neg_count)\n",
    "    # print(neu_count)\n",
    "\n",
    "    pos_sum = sum(pos_count)\n",
    "    neg_sum = sum(neg_count)\n",
    "    neu_sum = sum(neu_count)\n",
    "    # print(pos_sum)\n",
    "    # print(neg_sum)\n",
    "    sentiment_score = sum(\n",
    "        [\n",
    "            1 * (pos_sum / (pos_sum + neg_sum + neu_sum))\n",
    "            if sentiment == \"positive\"\n",
    "            else -1 * (neg_sum / (pos_sum + neg_sum + neu_sum))\n",
    "            if sentiment == \"negative\"\n",
    "            else 0\n",
    "            for sentiment in sentiments\n",
    "        ]\n",
    "    )  # / len(sentiments)\n",
    "\n",
    "    print(sentiment_score / (len(pos_count) + len(neg_count)))\n",
    "    sentiment_score = float(sentiment_score / (len(pos_count) + len(neg_count)))\n",
    "    return sentiment_score\n",
    "\n",
    "\n",
    "# Replace with actual URL\n",
    "url = \"https://finance.yahoo.com/news/why-uipath-stock-down-30-094500077.html\"\n",
    "stock_symbol = \"NVDA\"\n",
    "\n",
    "sentiment_score = analyze_stock_sentiment(url, stock_symbol)\n",
    "print(f\"Sentiment for {stock_symbol}: {sentiment_score:.2f}\")"
   ]
  },
  {
   "cell_type": "code",
   "execution_count": null,
   "id": "3d796066",
   "metadata": {},
   "outputs": [],
   "source": []
  }
 ],
 "metadata": {
  "kernelspec": {
   "display_name": "Python 3 (ipykernel)",
   "language": "python",
   "name": "python3"
  },
  "language_info": {
   "codemirror_mode": {
    "name": "ipython",
    "version": 3
   },
   "file_extension": ".py",
   "mimetype": "text/x-python",
   "name": "python",
   "nbconvert_exporter": "python",
   "pygments_lexer": "ipython3",
   "version": "3.10.11"
  }
 },
 "nbformat": 4,
 "nbformat_minor": 5
}
